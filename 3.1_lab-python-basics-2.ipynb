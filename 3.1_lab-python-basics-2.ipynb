{
 "cells": [
  {
   "cell_type": "markdown",
   "id": "aef01e5a",
   "metadata": {},
   "source": [
    "# Lambdas, udef, filter, map"
   ]
  },
  {
   "cell_type": "markdown",
   "id": "3131bdb8",
   "metadata": {},
   "source": [
    "The goverment made a socilogical study of citizens at mid-40's. They gathered the following data:"
   ]
  },
  {
   "cell_type": "code",
   "execution_count": 3,
   "id": "70d86ca7",
   "metadata": {},
   "outputs": [],
   "source": [
    "citizens = [{ 'First Name': 'Preston' , 'Last Name': 'Cunningham', 'Age': 49 , 'Education': 'Doctoral', 'Occupation':' Teacher' ,'Experience (Years)': 6, 'Salary': 62499}, \n",
    " { 'First Name': 'Madaline', 'Last Name': 'Farrell', 'Age': 41, 'Education': 'Bachelor', 'Occupation': 'Insurer','Experience (Years)': 16, 'Salary': 50190},\n",
    " { 'First Name': 'Eleanor', 'Last Name': 'Carter', 'Age': 49, 'Education': 'Lower secondary', 'Occupation': 'Programmer','Experience (Years)': 18, 'Salary': 189716},\n",
    " { 'First Name': 'Adison', 'Last Name': 'Hall', 'Age': 42 , 'Education': 'Bachelor', 'Occupation': 'Florist','Experience (Years)': 21, 'Salary': 34517},\n",
    " { 'First Name': 'Grace', 'Last Name': 'Cooper', 'Age': 49, 'Education': 'Master', 'Occupation': 'Singer','Experience (Years)': 9, 'Salary': 51994},\n",
    " { 'First Name': 'Alford', 'Last Name': 'Kelley', 'Age': 49, 'Education': 'Bachelor', 'Occupation': 'Aeroplane Pilot','Experience (Years)': 9, 'Salary': 170466},\n",
    " { 'First Name': 'Vincent', 'Last Name': 'Anderson', 'Age': 47, 'Education': 'Master', 'Occupation': 'Botanist','Experience (Years)': 6, 'Salary': 71617},\n",
    " { 'First Name': 'Myra', 'Last Name': 'Wright', 'Age': 45, 'Education': 'Master', 'Occupation': 'Geologist' ,'Experience (Years)': 18, 'Salary': 48786},\n",
    " { 'First Name': 'Chester', 'Last Name':'Bennett', 'Age': 42, 'Education': 'Doctoral', 'Occupation': 'Astronomer','Experience (Years)': 13, 'Salary': 44826},\n",
    " { 'First Name': 'Blake', 'Last Name': 'Tucker', 'Age': 42, 'Education': 'Doctoral', 'Occupation': 'Firefighter','Experience (Years)': 21, 'Salary': 36761},\n",
    " { 'First Name': 'Paige', 'Last Name': 'Ryan', 'Age': 43, 'Education': 'Primary', 'Occupation': 'Fine Artist','Experience (Years)': 19, 'Salary': 28181},\n",
    " { 'First Name': 'Natalie', 'Last Name': 'Ellis', 'Age': 45, 'Education': 'Bachelor', 'Occupation': 'Baker','Experience (Years)': 0, 'Salary': 31194},\n",
    " { 'First Name': 'Martin', 'Last Name': 'Thompson', 'Age': 47, 'Education': 'Bachelor', 'Occupation': 'Journalist','Experience (Years)': 21, 'Salary': 90183},\n",
    " { 'First Name': 'Alan', 'Last Name': 'Sullivan', 'Age': 46, 'Education': 'Doctoral', 'Occupation': 'Singer','Experience (Years)': 2, 'Salary': 18440},\n",
    " { 'First Name': 'Inga', 'Last Name': 'Bergman', 'Age': 41, 'Education': 'Bachelor', 'Occupation': 'Producer','Experience (Years)': 22, 'Salary': 80029},\n",
    " { 'First Name': 'Freddy', 'Last Name': 'Brown', 'Age': 48, 'Education': 'Bachelor', 'Occupation': 'Economist','Experience (Years)': 18, 'Salary': 146217},\n",
    " { 'First Name': 'Adelaide', 'Last Name': 'Farrell', 'Age': 42, 'Education': 'Bachelor', 'Occupation': 'Mechanic','Experience (Years)': 9, 'Salary':19414},\n",
    " { 'First Name': 'Luke', 'Last Name': 'Cooper', 'Age': 40, 'Education': 'Upper secondary', 'Occupation': 'Producer','Experience (Years)': 17, 'Salary': 160541},\n",
    " { 'First Name': 'Sofia', 'Last Name': 'Hall', 'Age': 41, 'Education': 'Doctoral', 'Occupation': 'Baker','Experience (Years)': 1, 'Salary': 25904},\n",
    " { 'First Name': 'Ashton', 'Last Name': 'Kelly', 'Age': 49, 'Education': 'Master', 'Occupation': 'Chef','Experience (Years)': 6, 'Salary': 95533}\n",
    "]"
   ]
  },
  {
   "cell_type": "markdown",
   "id": "d9724b4c",
   "metadata": {},
   "source": [
    "The goverment wants to know some things about this sample of citizens."
   ]
  },
  {
   "cell_type": "markdown",
   "id": "de46f18a",
   "metadata": {},
   "source": [
    "## Exercise 1:\n",
    "\n",
    "1. Create a user defined function to compute the mean of a list of numbers.\n",
    "2. Use python code to store the ages of the citizens inside a list.\n",
    "3. Use your function to compute the mean age (round the mean age to one decimal) using `round()`\n",
    "\n",
    "Expected result:\n",
    "\n",
    "```python\n",
    "\"The mean age of the citizens is: average_age years\"\n",
    "```\n",
    "\n",
    "replacing `average_age` by the correspoding value."
   ]
  },
  {
   "cell_type": "code",
   "execution_count": 8,
   "id": "7466cf4e",
   "metadata": {},
   "outputs": [
    {
     "name": "stdout",
     "output_type": "stream",
     "text": [
      "The ages are: [49, 41, 49, 42, 49, 49, 47, 45, 42, 42, 43, 45, 47, 46, 41, 48, 42, 40, 41, 49]\n",
      "The mean of age is: 44.9\n"
     ]
    }
   ],
   "source": [
    "def mean(numbers):\n",
    "    return float(sum(numbers)) / max(len(numbers), 1)\n",
    "\n",
    "ages = [citizen['Age'] for citizen in citizens]\n",
    "print(f\"The ages are: {ages}\")\n",
    "\n",
    "print(f\"The mean age of the citizens is: {round(mean(ages),1)}\")"
   ]
  },
  {
   "cell_type": "markdown",
   "id": "67b16e40",
   "metadata": {},
   "source": [
    "# Exercise 2:\n",
    "\n",
    "1. What are the unique educational levels?  \n",
    "2. How many unique educational levels are?\n",
    "3. What are the unique ocupations?\n",
    "4. How many unique ocupations are?"
   ]
  },
  {
   "cell_type": "code",
   "execution_count": 9,
   "id": "3d818a1f",
   "metadata": {},
   "outputs": [
    {
     "name": "stdout",
     "output_type": "stream",
     "text": [
      "The educational levels are: {'Lower secondary', 'Bachelor', 'Upper secondary', 'Doctoral', 'Primary', 'Master'}\n",
      "The number of unique educational levels is: 6\n",
      "The ocupations are: {'Insurer', 'Florist', 'Chef', 'Programmer', 'Botanist', 'Astronomer', 'Mechanic', ' Teacher', 'Producer', 'Baker', 'Economist', 'Singer', 'Journalist', 'Fine Artist', 'Geologist', 'Aeroplane Pilot', 'Firefighter'}\n",
      "The number of unique ocupations is: 17\n"
     ]
    }
   ],
   "source": [
    "# 1.What are the unique educational levels?\n",
    "educational_levels = [citizen['Education'] for citizen in citizens]\n",
    "educational_levels = set(educational_levels)\n",
    "print(f\"The educational levels are: {educational_levels}\")\n",
    "# 2.How many unique educational levels are?\n",
    "print(f\"The number of unique educational levels is: {len(educational_levels)}\")\n",
    "# 3.What are the unique ocupations?\n",
    "ocupations = [citizen['Occupation'] for citizen in citizens]\n",
    "ocupations = set(ocupations)\n",
    "print(f\"The ocupations are: {ocupations}\")\n",
    "# 4.How many unique ocupations are?\n",
    "print(f\"The number of unique ocupations is: {len(ocupations)}\")"
   ]
  },
  {
   "cell_type": "markdown",
   "id": "42d09af6",
   "metadata": {},
   "source": [
    "# Exercise 3:\n",
    "\n",
    "1. Provide a new list in which avery element is another dictionary which only contains:\n",
    "\n",
    "* 'First Name'\n",
    "* 'Last Name'\n",
    "* and at which age they started working?\n",
    "   ( substract from the age the years of experience )\n",
    "\n",
    "Expected output:\n",
    "\n",
    "```python\n",
    "[{ 'First Name': name, 'Last Name': last_name,'Starting age': 27},\n",
    " ...\n",
    "]\n",
    "```"
   ]
  },
  {
   "cell_type": "code",
   "execution_count": 13,
   "id": "d5f70be8",
   "metadata": {},
   "outputs": [
    {
     "name": "stdout",
     "output_type": "stream",
     "text": [
      "[{'First Name': 'Preston', 'Last Name': 'Cunningham', 'Starting_age': 43}, {'First Name': 'Madaline', 'Last Name': 'Farrell', 'Starting_age': 25}, {'First Name': 'Eleanor', 'Last Name': 'Carter', 'Starting_age': 31}, {'First Name': 'Adison', 'Last Name': 'Hall', 'Starting_age': 21}, {'First Name': 'Grace', 'Last Name': 'Cooper', 'Starting_age': 40}, {'First Name': 'Alford', 'Last Name': 'Kelley', 'Starting_age': 40}, {'First Name': 'Vincent', 'Last Name': 'Anderson', 'Starting_age': 41}, {'First Name': 'Myra', 'Last Name': 'Wright', 'Starting_age': 27}, {'First Name': 'Chester', 'Last Name': 'Bennett', 'Starting_age': 29}, {'First Name': 'Blake', 'Last Name': 'Tucker', 'Starting_age': 21}, {'First Name': 'Paige', 'Last Name': 'Ryan', 'Starting_age': 24}, {'First Name': 'Natalie', 'Last Name': 'Ellis', 'Starting_age': 45}, {'First Name': 'Martin', 'Last Name': 'Thompson', 'Starting_age': 26}, {'First Name': 'Alan', 'Last Name': 'Sullivan', 'Starting_age': 44}, {'First Name': 'Inga', 'Last Name': 'Bergman', 'Starting_age': 19}, {'First Name': 'Freddy', 'Last Name': 'Brown', 'Starting_age': 30}, {'First Name': 'Adelaide', 'Last Name': 'Farrell', 'Starting_age': 33}, {'First Name': 'Luke', 'Last Name': 'Cooper', 'Starting_age': 23}, {'First Name': 'Sofia', 'Last Name': 'Hall', 'Starting_age': 40}, {'First Name': 'Ashton', 'Last Name': 'Kelly', 'Starting_age': 43}]\n"
     ]
    }
   ],
   "source": [
    "def starting_age(citizen):\n",
    "    return citizen['Age'] - citizen['Experience (Years)']\n",
    "\n",
    "def starting_age_dict(citizen):\n",
    "    return {'First Name': citizen['First Name'], 'Last Name': citizen['Last Name'], 'Starting_age': starting_age(citizen)}\n",
    "\n",
    "starting_age_list = list(map(starting_age_dict, citizens))\n",
    "print(starting_age_list)\n"
   ]
  },
  {
   "cell_type": "markdown",
   "id": "a1369045",
   "metadata": {},
   "source": [
    "# Exercise 4:\n",
    "\n",
    "1. Can you provide a dictionary which contains **unique** `Education` levels and the corresponding mean salary?\n",
    "2. Do the same but by `Occupation`\n",
    "\n",
    "Expected outputs:\n",
    "\n",
    "```python\n",
    "{'Doctoral': mean_salary_doctorals,\n",
    " 'Bachelor': mean_salaty_bachelors,\n",
    "...}\n",
    "```\n",
    "\n",
    "```python\n",
    "{'Teacher': mean_salary_teachers,\n",
    " 'Insurer': mean_salaty_insurers,\n",
    "...}\n",
    "````\n",
    "\n",
    "**CAVEAT!!** The statement says: UNIQUE!!!"
   ]
  },
  {
   "cell_type": "code",
   "execution_count": 18,
   "id": "4b13e547",
   "metadata": {},
   "outputs": [
    {
     "name": "stdout",
     "output_type": "stream",
     "text": [
      "{'Doctoral': 37686, 'Bachelor': 77776, 'Lower secondary': 189716, 'Master': 66982, 'Primary': 28181, 'Upper secondary': 160541}\n",
      "{' Teacher': 62499, 'Insurer': 50190, 'Programmer': 189716, 'Florist': 34517, 'Singer': 35217, 'Aeroplane Pilot': 170466, 'Botanist': 71617, 'Geologist': 48786, 'Astronomer': 44826, 'Firefighter': 36761, 'Fine Artist': 28181, 'Baker': 28549, 'Journalist': 90183, 'Producer': 120285, 'Economist': 146217, 'Mechanic': 19414, 'Chef': 95533}\n"
     ]
    }
   ],
   "source": [
    "def mean_salary(citizen):\n",
    "    return citizen['Salary']\n",
    "\n",
    "def mean_salary_dict(citizen):\n",
    "    return {'Education': citizen['Education'], 'Mean_salary': mean_salary(citizen)}\n",
    "\n",
    "final_dict = {}\n",
    "for citizen in citizens:\n",
    "    if citizen['Education'] not in final_dict:\n",
    "        final_dict[citizen['Education']] = []\n",
    "    final_dict[citizen['Education']].append(mean_salary(citizen))\n",
    "\n",
    "for key in final_dict:\n",
    "    final_dict[key] = round(sum(final_dict[key]) / len(final_dict[key]))\n",
    "\n",
    "print(final_dict)\n",
    "\n",
    "final_dict_2 = {}\n",
    "for citizen in citizens:\n",
    "    if citizen['Occupation'] not in final_dict_2:\n",
    "        final_dict_2[citizen['Occupation']] = []\n",
    "    final_dict_2[citizen['Occupation']].append(mean_salary(citizen))\n",
    "\n",
    "for key in final_dict_2:\n",
    "    final_dict_2[key] = round(sum(final_dict_2[key]) / len(final_dict_2[key]))\n",
    "\n",
    "print(final_dict_2)\n"
   ]
  },
  {
   "cell_type": "markdown",
   "id": "751b6315",
   "metadata": {},
   "source": [
    "# Exercise 5:\n",
    "\n",
    "1. Use a `lambda` function and `filter` to keep only citizens with 'Doctoral' educational level.\n",
    "2. Use a user defined function to obtain the same output"
   ]
  },
  {
   "cell_type": "markdown",
   "id": "71432147",
   "metadata": {},
   "source": [
    "The output in both cases should be:\n",
    "\n",
    "```python\n",
    "[{'First Name': 'Preston',\n",
    "  'Last Name': 'Cunningham',\n",
    "  'Age': 49,\n",
    "  'Education': 'Doctoral',\n",
    "  'Occupation': ' Teacher',\n",
    "  'Experience (Years)': 6,\n",
    "  'Salary': 62499},\n",
    " {'First Name': 'Chester',\n",
    "  'Last Name': 'Bennett',\n",
    "  'Age': 42,\n",
    "  'Education': 'Doctoral',\n",
    "  'Occupation': 'Astronomer',\n",
    "  'Experience (Years)': 13,\n",
    "  'Salary': 44826},\n",
    " {'First Name': 'Blake',\n",
    "  'Last Name': 'Tucker',\n",
    "  'Age': 42,\n",
    "  'Education': 'Doctoral',\n",
    "  'Occupation': 'Firefighter',\n",
    "  'Experience (Years)': 21,\n",
    "  'Salary': 36761},\n",
    " {'First Name': 'Alan',\n",
    "  'Last Name': 'Sullivan',\n",
    "  'Age': 46,\n",
    "  'Education': 'Doctoral',\n",
    "  'Occupation': 'Singer',\n",
    "  'Experience (Years)': 2,\n",
    "  'Salary': 18440},\n",
    " {'First Name': 'Sofia',\n",
    "  'Last Name': 'Hall',\n",
    "  'Age': 41,\n",
    "  'Education': 'Doctoral',\n",
    "  'Occupation': 'Baker',\n",
    "  'Experience (Years)': 1,\n",
    "  'Salary': 25904}]\n",
    "```"
   ]
  },
  {
   "cell_type": "code",
   "execution_count": 19,
   "id": "b35183a0",
   "metadata": {},
   "outputs": [
    {
     "name": "stdout",
     "output_type": "stream",
     "text": [
      "[{'First Name': 'Preston', 'Last Name': 'Cunningham', 'Age': 49, 'Education': 'Doctoral', 'Occupation': ' Teacher', 'Experience (Years)': 6, 'Salary': 62499}, {'First Name': 'Chester', 'Last Name': 'Bennett', 'Age': 42, 'Education': 'Doctoral', 'Occupation': 'Astronomer', 'Experience (Years)': 13, 'Salary': 44826}, {'First Name': 'Blake', 'Last Name': 'Tucker', 'Age': 42, 'Education': 'Doctoral', 'Occupation': 'Firefighter', 'Experience (Years)': 21, 'Salary': 36761}, {'First Name': 'Alan', 'Last Name': 'Sullivan', 'Age': 46, 'Education': 'Doctoral', 'Occupation': 'Singer', 'Experience (Years)': 2, 'Salary': 18440}, {'First Name': 'Sofia', 'Last Name': 'Hall', 'Age': 41, 'Education': 'Doctoral', 'Occupation': 'Baker', 'Experience (Years)': 1, 'Salary': 25904}]\n",
      "[{'First Name': 'Preston', 'Last Name': 'Cunningham', 'Age': 49, 'Education': 'Doctoral', 'Occupation': ' Teacher', 'Experience (Years)': 6, 'Salary': 62499}, {'First Name': 'Chester', 'Last Name': 'Bennett', 'Age': 42, 'Education': 'Doctoral', 'Occupation': 'Astronomer', 'Experience (Years)': 13, 'Salary': 44826}, {'First Name': 'Blake', 'Last Name': 'Tucker', 'Age': 42, 'Education': 'Doctoral', 'Occupation': 'Firefighter', 'Experience (Years)': 21, 'Salary': 36761}, {'First Name': 'Alan', 'Last Name': 'Sullivan', 'Age': 46, 'Education': 'Doctoral', 'Occupation': 'Singer', 'Experience (Years)': 2, 'Salary': 18440}, {'First Name': 'Sofia', 'Last Name': 'Hall', 'Age': 41, 'Education': 'Doctoral', 'Occupation': 'Baker', 'Experience (Years)': 1, 'Salary': 25904}]\n"
     ]
    }
   ],
   "source": [
    "# 1. Use a lambda function and filter to keep only citizens with 'Doctoral' educational level.\n",
    "print(list(filter(lambda citizen: citizen['Education'] == 'Doctoral', citizens)))\n",
    "\n",
    "# 2. Use a user defined function to obtain the same output\n",
    "\n",
    "def filter_education(citizen):\n",
    "    return citizen['Education'] == 'Doctoral'\n",
    "\n",
    "print(list(filter(filter_education, citizens)))\n",
    "\n",
    "\n"
   ]
  },
  {
   "cell_type": "markdown",
   "id": "8364a01f",
   "metadata": {},
   "source": [
    "# Exercise 6:\n",
    "\n",
    "1. Use a `lambda` function alongside with `map()` to get a list of strings with the following pattern:\n",
    "\n",
    "\"First Name is number_of_years years old\"\n",
    "\n",
    "The expected output should be:\n",
    "\n",
    "```python\n",
    "['Preston Cunningham is 49 years old',\n",
    " 'Madaline Farrell is 41 years old',\n",
    " 'Eleanor Carter is 49 years old',\n",
    " 'Adison Hall is 42 years old',\n",
    " 'Grace Cooper is 49 years old',\n",
    " 'Alford Kelley is 49 years old',\n",
    " 'Vincent Anderson is 47 years old',\n",
    " 'Myra Wright is 45 years old',\n",
    " 'Chester Bennett is 42 years old',\n",
    " 'Blake Tucker is 42 years old',\n",
    " 'Paige Ryan is 43 years old',\n",
    " 'Natalie Ellis is 45 years old',\n",
    " 'Martin Thompson is 47 years old',\n",
    " 'Alan Sullivan is 46 years old',\n",
    " 'Inga Bergman is 41 years old',\n",
    " 'Freddy Brown is 48 years old',\n",
    " 'Adelaide Farrell is 42 years old',\n",
    " 'Luke Cooper is 40 years old',\n",
    " 'Sofia Hall is 41 years old',\n",
    " 'Ashton Kelly is 49 years old']\n",
    "```\n",
    "\n",
    "Hint: use `str()` to cast an integer into a string."
   ]
  },
  {
   "cell_type": "code",
   "execution_count": 21,
   "id": "990afb55",
   "metadata": {},
   "outputs": [
    {
     "name": "stdout",
     "output_type": "stream",
     "text": [
      "['Preston Cunningham is a 49 years old', 'Madaline Farrell is a 41 years old', 'Eleanor Carter is a 49 years old', 'Adison Hall is a 42 years old', 'Grace Cooper is a 49 years old', 'Alford Kelley is a 49 years old', 'Vincent Anderson is a 47 years old', 'Myra Wright is a 45 years old', 'Chester Bennett is a 42 years old', 'Blake Tucker is a 42 years old', 'Paige Ryan is a 43 years old', 'Natalie Ellis is a 45 years old', 'Martin Thompson is a 47 years old', 'Alan Sullivan is a 46 years old', 'Inga Bergman is a 41 years old', 'Freddy Brown is a 48 years old', 'Adelaide Farrell is a 42 years old', 'Luke Cooper is a 40 years old', 'Sofia Hall is a 41 years old', 'Ashton Kelly is a 49 years old']\n"
     ]
    }
   ],
   "source": [
    "def create_list(citizens):\n",
    "    return list(map(lambda citizen: f\"{citizen['First Name']} {citizen['Last Name']} is a {str(citizen['Age'])} years old\", citizens))\n",
    "\n",
    "print(create_list(citizens))"
   ]
  }
 ],
 "metadata": {
  "kernelspec": {
   "display_name": "Python 3 (ipykernel)",
   "language": "python",
   "name": "python3"
  },
  "language_info": {
   "codemirror_mode": {
    "name": "ipython",
    "version": 3
   },
   "file_extension": ".py",
   "mimetype": "text/x-python",
   "name": "python",
   "nbconvert_exporter": "python",
   "pygments_lexer": "ipython3",
   "version": "3.9.7"
  }
 },
 "nbformat": 4,
 "nbformat_minor": 5
}
